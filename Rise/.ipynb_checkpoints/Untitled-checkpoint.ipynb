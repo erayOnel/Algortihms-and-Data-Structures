{
 "cells": [
  {
   "cell_type": "code",
   "execution_count": 1,
   "id": "85f6826d",
   "metadata": {},
   "outputs": [
    {
     "name": "stdout",
     "output_type": "stream",
     "text": [
      "[(0, 0), (0, 1), (0, 2)]\n",
      "[1, 9, 25]\n",
      "['asd', 'qwe', 'zxc']\n",
      "[('Alice', 100), ('Bob', 99), ('Carol', 98), ('Frank', 97), ('Eve', 96)]\n",
      "[('Alice', 100), ('Bob', 99)]\n"
     ]
    }
   ],
   "source": [
    "\n",
    "#Watch for [expression + context]\n",
    "\n",
    "print([(x, y) for x in range(1) for y in range(3)])\n",
    "print([q ** 2 for q in range(7) if q % 2 > 0])\n",
    "\n",
    "print([x.lower() for x in [\"ASD\", \"QWE\", \"ZXC\"]])\n",
    "db = {\n",
    "    \"Alice\": 100,\n",
    "    \"Bob\": 99,\n",
    "    \"Carol\": 98,\n",
    "    \"Frank\": 97,\n",
    "    \"Eve\": 96\n",
    "}\n",
    "\n",
    "print(list((m, n) for m, n in db.items()))\n",
    "print([(m, n) for m, n in db.items() if n > 98])\n",
    "\n",
    "string = \"Lorem ipsum dolor sit amet, consectetur adipiscing elit, sed do eiusmod tempor incididunt ut labore et dolore magna aliqua. Ut enim ad minim veniam, quis nostrud exercitation ullamco laboris nisi ut aliquip ex ea commodo consequat. Duis aute irure dolor in reprehenderit in voluptate velit esse cillum dolore eu fugiat nulla pariatur. Excepteur sint occaecat cupidatat non proident, sunt in culpa qui officia deserunt mollit anim id est laborum.\"\n",
    "fva = \"\"\n",
    "\n",
    "print([[x for x in line.split() if len(x) > 4] for line in string.split(\"\\n\")])\n",
    "print([[x for x in line.split() if len(x) > 3] for line in string.split('\\n')])\n",
    "\n"
   ]
  },
  {
   "cell_type": "code",
   "execution_count": 3,
   "id": "1f809a2a",
   "metadata": {},
   "outputs": [],
   "source": [
    "\n",
    "# lambda arguments : return expression\n"
   ]
  },
  {
   "cell_type": "code",
   "execution_count": 4,
   "id": "ca535b33",
   "metadata": {},
   "outputs": [
    {
     "data": {
      "text/plain": [
       "<function __main__.<lambda>(x, y)>"
      ]
     },
     "execution_count": 4,
     "metadata": {},
     "output_type": "execute_result"
    }
   ],
   "source": [
    "lambda x, y: x + y"
   ]
  },
  {
   "cell_type": "code",
   "execution_count": 35,
   "id": "ed02c2df",
   "metadata": {},
   "outputs": [
    {
     "name": "stdout",
     "output_type": "stream",
     "text": [
      "a fully-managed MySQL and PostgreSQL\n"
     ]
    }
   ],
   "source": [
    "## Data\n",
    "letters_amazon = '''\n",
    "We spent several years building our own database engine,\n",
    "Amazon Aurora, a fully-managed MySQL and PostgreSQL-compatible\n",
    "service with the same or better durability and availability as\n",
    "the commercial engines, but at one-tenth o the cost. We were\n",
    "not surprised when this worked.\n",
    "'''\n",
    "## One-Liner\n",
    "find = lambda x, q: x[x.find(q)-18:x.find(q)+18] if q in x else -1\n",
    "## Result\n",
    "print(find(letters_amazon, 'SQL'))"
   ]
  },
  {
   "cell_type": "code",
   "execution_count": 26,
   "id": "9bed9c76",
   "metadata": {},
   "outputs": [
    {
     "name": "stdout",
     "output_type": "stream",
     "text": [
      "bui\n"
     ]
    }
   ],
   "source": [
    "find = lambda x, y: x[x.find(y):x.find(y) + 3] if y in x else -1\n",
    "print(find(letters_amazon,\"building\"))"
   ]
  },
  {
   "cell_type": "code",
   "execution_count": 36,
   "id": "7c074b19",
   "metadata": {},
   "outputs": [
    {
     "name": "stdout",
     "output_type": "stream",
     "text": [
      "f\n"
     ]
    }
   ],
   "source": [
    "find_2 = lambda m, n: m[m.index(n)] if n in m else -4\n",
    "print(find_2(letters_amazon, \"f\"))"
   ]
  },
  {
   "cell_type": "code",
   "execution_count": 43,
   "id": "5950941b",
   "metadata": {},
   "outputs": [
    {
     "name": "stdout",
     "output_type": "stream",
     "text": [
      "[[9.9, 9.8, 9.5], [9.5, 9.4, 9.2], [8.4, 7.9, 8.0], [7.1, 4.8, 4.7]]\n"
     ]
    }
   ],
   "source": [
    "price = [[9.9, 9.8, 9.8, 9.4, 9.5, 9.7],\n",
    " [9.5, 9.4, 9.4, 9.3, 9.2, 9.1],\n",
    " [8.4, 7.9, 7.9, 8.1, 8.0, 8.0],\n",
    " [7.1, 5.9, 4.8, 4.8, 4.7, 3.9]]\n",
    "\n",
    "print([line[::2] for line in price])"
   ]
  },
  {
   "cell_type": "code",
   "execution_count": 45,
   "id": "dd416596",
   "metadata": {},
   "outputs": [
    {
     "name": "stdout",
     "output_type": "stream",
     "text": [
      "['Firefox', 'Firefox', 'Chrome', 'Chrome', 'Safari', 'Safari', 'Safari', 'Safari', 'Chrome', 'Chrome', 'Firefox', 'Firefox']\n"
     ]
    }
   ],
   "source": [
    "visitors = ['Firefox', 'corrupted', 'Chrome', 'corrupted',\n",
    " 'Safari', 'corrupted', 'Safari', 'corrupted',\n",
    " 'Chrome', 'corrupted', 'Firefox', 'corrupted']\n",
    "\n",
    "visitors[1::2] = visitors[::2]\n",
    "print(visitors)"
   ]
  },
  {
   "cell_type": "code",
   "execution_count": 47,
   "id": "616bff1e",
   "metadata": {},
   "outputs": [
    {
     "name": "stdout",
     "output_type": "stream",
     "text": [
      "['CheapCompany', 'SosoCompany']\n"
     ]
    }
   ],
   "source": [
    "companies = {\n",
    " 'CoolCompany' : {'Alice' : 33, 'Bob' : 28, 'Frank' : 29},\n",
    " 'CheapCompany' : {'Ann' : 4, 'Lee' : 9, 'Chrisi' : 7},\n",
    " 'SosoCompany' : {'Esther' : 38, 'Cole' : 8, 'Paris' : 18}}\n",
    "\n",
    "print([x for x in companies if any(y < 9 for y in companies[x].values())])"
   ]
  },
  {
   "cell_type": "code",
   "execution_count": 52,
   "id": "6f1ecbaa",
   "metadata": {},
   "outputs": [
    {
     "name": "stdout",
     "output_type": "stream",
     "text": [
      "[1, 2, 3]\n",
      "[4, 5, 6]\n"
     ]
    }
   ],
   "source": [
    "zipped = [(1,4),(2,5),(3,6)]\n",
    "\n",
    "lst_1_new, lst_2_new = zip(*zipped)\n",
    "print(list(lst_1_new))\n",
    "print(list(lst_2_new))"
   ]
  },
  {
   "cell_type": "code",
   "execution_count": 66,
   "id": "9c5316cc",
   "metadata": {},
   "outputs": [
    {
     "name": "stdout",
     "output_type": "stream",
     "text": [
      "[{'name': 'Alice', 'salary': 180000, 'job': 'data scientist'}, {'name': 'Bob', 'salary': 99000, 'job': 'mid-level manager'}, {'name': 'Frank', 'salary': 87000, 'job': 'CEO'}]\n"
     ]
    }
   ],
   "source": [
    "column_names = ['name', 'salary', 'job']\n",
    "db_rows = [('Alice', 180000, 'data scientist'),('Bob', 99000, 'mid-level manager'),('Frank', 87000, 'CEO')]\n",
    "\n",
    "# print([dict(zip(column_names, x))for x in db_rows])\n",
    "# print([dict(zip(column_names, m)) for m in db_rows])\n",
    "print([dict(zip(column_names, q))for q in db_rows])"
   ]
  },
  {
   "cell_type": "code",
   "execution_count": 72,
   "id": "4dee638e",
   "metadata": {},
   "outputs": [
    {
     "name": "stdout",
     "output_type": "stream",
     "text": [
      "True\n",
      "True\n"
     ]
    }
   ],
   "source": [
    "is_anagram = lambda x, y: sorted(x) == sorted(y)\n",
    "print(is_anagram(\"elvis\", \"lives\"))\n",
    "is_palindrome = lambda x: x == x[::-1]\n",
    "print(is_palindrome(\"rats live on no evil star\"))"
   ]
  },
  {
   "cell_type": "code",
   "execution_count": 81,
   "id": "fd0740bf",
   "metadata": {},
   "outputs": [
    {
     "name": "stdout",
     "output_type": "stream",
     "text": [
      "120\n"
     ]
    }
   ],
   "source": [
    "take_factorial = lambda x: x * take_factorial(x - 1) if x > 1 else 1\n",
    "print(take_factorial(5))"
   ]
  },
  {
   "cell_type": "code",
   "execution_count": null,
   "id": "1207ba99",
   "metadata": {},
   "outputs": [],
   "source": []
  },
  {
   "cell_type": "code",
   "execution_count": null,
   "id": "a03a406e",
   "metadata": {},
   "outputs": [],
   "source": []
  },
  {
   "cell_type": "code",
   "execution_count": null,
   "id": "12122825",
   "metadata": {},
   "outputs": [],
   "source": []
  },
  {
   "cell_type": "code",
   "execution_count": null,
   "id": "b0c4fc85",
   "metadata": {},
   "outputs": [],
   "source": []
  }
 ],
 "metadata": {
  "kernelspec": {
   "display_name": "Python 3 (ipykernel)",
   "language": "python",
   "name": "python3"
  },
  "language_info": {
   "codemirror_mode": {
    "name": "ipython",
    "version": 3
   },
   "file_extension": ".py",
   "mimetype": "text/x-python",
   "name": "python",
   "nbconvert_exporter": "python",
   "pygments_lexer": "ipython3",
   "version": "3.10.5"
  }
 },
 "nbformat": 4,
 "nbformat_minor": 5
}
